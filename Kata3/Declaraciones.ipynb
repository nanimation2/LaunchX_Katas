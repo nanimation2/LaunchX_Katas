{
 "cells": [
  {
   "cell_type": "code",
   "execution_count": 2,
   "metadata": {},
   "outputs": [
    {
     "name": "stdout",
     "output_type": "stream",
     "text": [
      "Sin alerta de asteroide\n"
     ]
    }
   ],
   "source": [
    "speed_asteroid = 3\n",
    "\n",
    "if speed_asteroid > 20:\n",
    "    print(\"Alerta Asteroide acercandoce rapidamente\")\n",
    "else:\n",
    "    print (\"Sin alerta de asteroide\")\n"
   ]
  },
  {
   "cell_type": "code",
   "execution_count": 3,
   "metadata": {},
   "outputs": [
    {
     "name": "stdout",
     "output_type": "stream",
     "text": [
      "Sin alerta de asteroide\n"
     ]
    }
   ],
   "source": [
    "speed_asteroid = 19\n",
    "if speed_asteroid == 20:\n",
    "    print(\"puedes ver el rayo de luz\")\n",
    "elif speed_asteroid > 20:\n",
    "    print(\"puedes ver el rayo de luz\")\n",
    "else:\n",
    "    print (\"Sin alerta de asteroide\")"
   ]
  },
  {
   "cell_type": "code",
   "execution_count": 5,
   "metadata": {},
   "outputs": [
    {
     "name": "stdout",
     "output_type": "stream",
     "text": [
      "puedes ver el rayo de luz\n"
     ]
    }
   ],
   "source": [
    "speed_asteroid = 20\n",
    "size_asteroid = 55\n",
    "\n",
    "if speed_asteroid > 25 and size_asteroid >25:\n",
    "    print(\"Alerta asteroide grande acercandoce rapidamente\")\n",
    "elif speed_asteroid >= 20:\n",
    "    print(\"puedes ver el rayo de luz\")\n",
    "elif size_asteroid < 25:\n",
    "    print (\"Sin alerta de asteroide\")\n",
    "else:\n",
    "    print (\"Sin alerta de asteroide\")\n",
    "\n"
   ]
  }
 ],
 "metadata": {
  "interpreter": {
   "hash": "916dbcbb3f70747c44a77c7bcd40155683ae19c65e1c03b4aa3499c5328201f1"
  },
  "kernelspec": {
   "display_name": "Python 3.8.10 64-bit",
   "language": "python",
   "name": "python3"
  },
  "language_info": {
   "codemirror_mode": {
    "name": "ipython",
    "version": 3
   },
   "file_extension": ".py",
   "mimetype": "text/x-python",
   "name": "python",
   "nbconvert_exporter": "python",
   "pygments_lexer": "ipython3",
   "version": "3.8.10"
  },
  "orig_nbformat": 4
 },
 "nbformat": 4,
 "nbformat_minor": 2
}
